{
  "cells": [
    {
      "cell_type": "code",
      "source": [
        "# prompt: Create a Logistic regression model without using packages\n",
        "\n",
        "import numpy as np\n",
        "\n",
        "class LogisticRegression:\n",
        "    def __init__(self, learning_rate, num_iters, fit_intercept=True):\n",
        "        self.learning_rate = learning_rate\n",
        "        self.num_iters = num_iters\n",
        "        self.fit_intercept = fit_intercept\n",
        "\n",
        "    def __add_intercept(self, X):\n",
        "        intercept = np.ones((X.shape[0], 1))\n",
        "        return np.concatenate((intercept, X), axis=1)\n",
        "\n",
        "    def __sigmoid(self, z):\n",
        "        return 1 / (1 + np.exp(-z))\n",
        "\n",
        "    def __initialize_weights(self, X):\n",
        "        if self.fit_intercept:\n",
        "            self.theta = np.zeros(X.shape[1] + 1)\n",
        "        else:\n",
        "            self.theta = np.zeros(X.shape[1])\n",
        "\n",
        "    def fit(self, X, y):\n",
        "        if self.fit_intercept:\n",
        "            X = self.__add_intercept(X)\n",
        "\n",
        "        self.__initialize_weights(X)\n",
        "\n",
        "        for _ in range(self.num_iters):\n",
        "            z = np.dot(X, self.theta)\n",
        "            h = self.__sigmoid(z)\n",
        "            gradient = np.dot(X.T, (h - y)) / y.size\n",
        "            self.theta -= self.learning_rate * gradient\n",
        "\n",
        "    def predict_proba(self, X):\n",
        "        if self.fit_intercept:\n",
        "            X = self.__add_intercept(X)\n",
        "\n",
        "        return self.__sigmoid(np.dot(X, self.theta))\n",
        "\n",
        "    def predict(self, X):\n",
        "        return (self.predict_proba(X) >= 0.5).astype(int)\n"
      ],
      "metadata": {
        "id": "bKJ-mA0Jx13y"
      },
      "execution_count": 8,
      "outputs": []
    },
    {
      "cell_type": "code",
      "source": [
        "# prompt: create a logistic regession model with an open source dataset by importing dataset with open source links\n",
        "\n",
        "import pandas as pd\n",
        "from sklearn.model_selection import train_test_split\n",
        "from sklearn.preprocessing import StandardScaler\n",
        "from sklearn.linear_model import LogisticRegression\n",
        "\n",
        "# Load the dataset\n",
        "data = pd.read_csv('https://raw.githubusercontent.com/jbrownlee/Datasets/master/pima-indians-diabetes.data.csv')\n",
        "\n",
        "# Split the data into training and testing sets\n",
        "X = data.iloc[:, :-1]\n",
        "y = data.iloc[:, -1]\n",
        "X_train, X_test, y_train, y_test = train_test_split(X, y, test_size=0.25, random_state=0)\n",
        "\n",
        "# Scale the data\n",
        "scaler = StandardScaler()\n",
        "X_train = scaler.fit_transform(X_train)\n",
        "X_test = scaler.transform(X_test)\n",
        "\n",
        "# Create the logistic regression model\n",
        "model_packed = LogisticRegression()\n",
        "\n"
      ],
      "metadata": {
        "id": "NgAkYm3zyhSo"
      },
      "execution_count": 9,
      "outputs": []
    },
    {
      "cell_type": "code",
      "source": [
        "# Fit the model to the data\n",
        "model_packed.fit(X, y)\n",
        "\n",
        "# Predict the labels for new data\n",
        "y_pred = model_packed.predict(X)\n",
        "\n",
        "# Evaluate the model\n",
        "print('Accuracy:', np.mean(y_pred == y))"
      ],
      "metadata": {
        "id": "FsZ0oHmzzAqt",
        "outputId": "c0786a44-d413-4804-eb27-55b9cad9651b",
        "colab": {
          "base_uri": "https://localhost:8080/"
        }
      },
      "execution_count": 11,
      "outputs": [
        {
          "output_type": "stream",
          "name": "stdout",
          "text": [
            "Accuracy: 0.7770534550195567\n"
          ]
        },
        {
          "output_type": "stream",
          "name": "stderr",
          "text": [
            "/usr/local/lib/python3.10/dist-packages/sklearn/linear_model/_logistic.py:458: ConvergenceWarning: lbfgs failed to converge (status=1):\n",
            "STOP: TOTAL NO. of ITERATIONS REACHED LIMIT.\n",
            "\n",
            "Increase the number of iterations (max_iter) or scale the data as shown in:\n",
            "    https://scikit-learn.org/stable/modules/preprocessing.html\n",
            "Please also refer to the documentation for alternative solver options:\n",
            "    https://scikit-learn.org/stable/modules/linear_model.html#logistic-regression\n",
            "  n_iter_i = _check_optimize_result(\n"
          ]
        }
      ]
    },
    {
      "cell_type": "code",
      "source": [
        "# Fit the model to the data\n",
        "model_unpacked = LogisticRegression_unpacked()\n",
        "model_unpacked.fit(X, y)\n",
        "\n",
        "# Predict the labels for new data\n",
        "y_pred = model_unpacked.predict(X)\n",
        "\n",
        "# Evaluate the model\n",
        "print('Accuracy:', np.mean(y_pred == y))"
      ],
      "metadata": {
        "id": "NAP1a31uzA2Y",
        "outputId": "e17a0871-b0fe-4290-fbae-0eaf18667f88",
        "colab": {
          "base_uri": "https://localhost:8080/"
        }
      },
      "execution_count": 14,
      "outputs": [
        {
          "output_type": "stream",
          "name": "stderr",
          "text": [
            "/usr/local/lib/python3.10/dist-packages/pandas/core/arraylike.py:402: RuntimeWarning: overflow encountered in exp\n",
            "  result = getattr(ufunc, method)(*inputs, **kwargs)\n"
          ]
        },
        {
          "output_type": "stream",
          "name": "stdout",
          "text": [
            "Accuracy: 0.6114732724902217\n"
          ]
        }
      ]
    },
    {
      "cell_type": "code",
      "source": [
        "inspect.signature(model_unpacked).parameters"
      ],
      "metadata": {
        "id": "e23X2JX93cqH",
        "outputId": "3a6d9c34-869a-4126-8cd8-51b8df1c8511",
        "colab": {
          "base_uri": "https://localhost:8080/",
          "height": 144
        }
      },
      "execution_count": 16,
      "outputs": [
        {
          "output_type": "error",
          "ename": "NameError",
          "evalue": "name 'inspect' is not defined",
          "traceback": [
            "\u001b[0;31m---------------------------------------------------------------------------\u001b[0m",
            "\u001b[0;31mNameError\u001b[0m                                 Traceback (most recent call last)",
            "\u001b[0;32m<ipython-input-16-edbaed54003d>\u001b[0m in \u001b[0;36m<cell line: 1>\u001b[0;34m()\u001b[0m\n\u001b[0;32m----> 1\u001b[0;31m \u001b[0minspect\u001b[0m\u001b[0;34m.\u001b[0m\u001b[0msignature\u001b[0m\u001b[0;34m(\u001b[0m\u001b[0mmodel_unpacked\u001b[0m\u001b[0;34m)\u001b[0m\u001b[0;34m.\u001b[0m\u001b[0mparameters\u001b[0m\u001b[0;34m\u001b[0m\u001b[0;34m\u001b[0m\u001b[0m\n\u001b[0m",
            "\u001b[0;31mNameError\u001b[0m: name 'inspect' is not defined"
          ]
        }
      ]
    },
    {
      "cell_type": "code",
      "source": [
        "def fun(a,b):\n",
        "  return 0"
      ],
      "metadata": {
        "id": "XXNkLwGH3-_R"
      },
      "execution_count": 23,
      "outputs": []
    },
    {
      "cell_type": "code",
      "source": [
        "fun.Parameters()"
      ],
      "metadata": {
        "id": "0ZiP-HAn3eLA",
        "outputId": "221adba7-8b7f-46c0-964e-14f9eddcd866",
        "colab": {
          "base_uri": "https://localhost:8080/",
          "height": 144
        }
      },
      "execution_count": 24,
      "outputs": [
        {
          "output_type": "error",
          "ename": "AttributeError",
          "evalue": "'function' object has no attribute 'Parameters'",
          "traceback": [
            "\u001b[0;31m---------------------------------------------------------------------------\u001b[0m",
            "\u001b[0;31mAttributeError\u001b[0m                            Traceback (most recent call last)",
            "\u001b[0;32m<ipython-input-24-4cfa47d9e969>\u001b[0m in \u001b[0;36m<cell line: 1>\u001b[0;34m()\u001b[0m\n\u001b[0;32m----> 1\u001b[0;31m \u001b[0mfun\u001b[0m\u001b[0;34m.\u001b[0m\u001b[0mParameters\u001b[0m\u001b[0;34m(\u001b[0m\u001b[0;34m)\u001b[0m\u001b[0;34m\u001b[0m\u001b[0;34m\u001b[0m\u001b[0m\n\u001b[0m",
            "\u001b[0;31mAttributeError\u001b[0m: 'function' object has no attribute 'Parameters'"
          ]
        }
      ]
    },
    {
      "cell_type": "code",
      "source": [
        "import inspect"
      ],
      "metadata": {
        "id": "nCCZv3j34Lkg"
      },
      "execution_count": 25,
      "outputs": []
    },
    {
      "cell_type": "code",
      "source": [
        "num_params = inspect.signature(LogisticRegression).parameters"
      ],
      "metadata": {
        "id": "TO5BZzx53xY1"
      },
      "execution_count": 30,
      "outputs": []
    },
    {
      "cell_type": "code",
      "source": [
        "num_params"
      ],
      "metadata": {
        "id": "4CsEIJxg4MoA",
        "outputId": "e2774ba4-2827-43b0-cee7-6e6c9d582061",
        "colab": {
          "base_uri": "https://localhost:8080/"
        }
      },
      "execution_count": 31,
      "outputs": [
        {
          "output_type": "execute_result",
          "data": {
            "text/plain": [
              "mappingproxy({'penalty': <Parameter \"penalty='l2'\">,\n",
              "              'dual': <Parameter \"dual=False\">,\n",
              "              'tol': <Parameter \"tol=0.0001\">,\n",
              "              'C': <Parameter \"C=1.0\">,\n",
              "              'fit_intercept': <Parameter \"fit_intercept=True\">,\n",
              "              'intercept_scaling': <Parameter \"intercept_scaling=1\">,\n",
              "              'class_weight': <Parameter \"class_weight=None\">,\n",
              "              'random_state': <Parameter \"random_state=None\">,\n",
              "              'solver': <Parameter \"solver='lbfgs'\">,\n",
              "              'max_iter': <Parameter \"max_iter=100\">,\n",
              "              'multi_class': <Parameter \"multi_class='auto'\">,\n",
              "              'verbose': <Parameter \"verbose=0\">,\n",
              "              'warm_start': <Parameter \"warm_start=False\">,\n",
              "              'n_jobs': <Parameter \"n_jobs=None\">,\n",
              "              'l1_ratio': <Parameter \"l1_ratio=None\">})"
            ]
          },
          "metadata": {},
          "execution_count": 31
        }
      ]
    },
    {
      "cell_type": "code",
      "source": [],
      "metadata": {
        "id": "XVHXOXpQ4OpE"
      },
      "execution_count": null,
      "outputs": []
    }
  ],
  "metadata": {
    "colab": {
      "name": "Welcome to Colaboratory",
      "provenance": []
    },
    "kernelspec": {
      "display_name": "Python 3",
      "name": "python3"
    }
  },
  "nbformat": 4,
  "nbformat_minor": 0
}